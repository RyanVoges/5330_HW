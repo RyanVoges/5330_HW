{
 "cells": [
  {
   "cell_type": "markdown",
   "metadata": {},
   "source": [
    "# <center>__Project 1__</center>\n",
    "## <center>Cointegration, Error-Correction, & Pairs Trading</center>\n",
    "## <center>Finance 5330<center>\n",
    "### <center>Emily Rice & Ryan Voges<center>"
   ]
  },
  {
   "cell_type": "code",
   "execution_count": 1,
   "metadata": {},
   "outputs": [],
   "source": [
    "using StatsKit\n",
    "using StatsPlots\n",
    "using GLM\n",
    "using HypothesisTests"
   ]
  },
  {
   "cell_type": "code",
   "execution_count": 2,
   "metadata": {},
   "outputs": [
    {
     "name": "stderr",
     "output_type": "stream",
     "text": [
      "┌ Warning: `CSV.read(input; kw...)` is deprecated in favor of `using DataFrames; CSV.read(input, DataFrame; kw...)\n",
      "│   caller = read(::String) at CSV.jl:46\n",
      "└ @ CSV C:\\Users\\ryanv\\.julia\\packages\\CSV\\UIgP3\\src\\CSV.jl:46\n"
     ]
    }
   ],
   "source": [
    "using DataFrames; df = CSV.read(\"WaterStocks.csv\");"
   ]
  },
  {
   "cell_type": "code",
   "execution_count": 13,
   "metadata": {},
   "outputs": [
    {
     "data": {
      "text/html": [
       "<table class=\"data-frame\"><thead><tr><th></th><th>PERMNO</th><th>date</th><th>TICKER</th><th>COMNAM</th><th>PERMCO</th><th>BIDLO</th><th>ASKHI</th></tr><tr><th></th><th>Int64</th><th>Int64</th><th>String</th><th>String</th><th>Int64</th><th>Float64</th><th>Float64</th></tr></thead><tbody><p>9,060 rows × 21 columns (omitted printing of 14 columns)</p><tr><th>1</th><td>26463</td><td>19970102</td><td>CTWS</td><td>CONNECTICUT WATER SERVICE INC</td><td>1191</td><td>29.0</td><td>30.0</td></tr><tr><th>2</th><td>26463</td><td>19970103</td><td>CTWS</td><td>CONNECTICUT WATER SERVICE INC</td><td>1191</td><td>29.25</td><td>30.0</td></tr><tr><th>3</th><td>26463</td><td>19970106</td><td>CTWS</td><td>CONNECTICUT WATER SERVICE INC</td><td>1191</td><td>29.25</td><td>30.0</td></tr><tr><th>4</th><td>26463</td><td>19970107</td><td>CTWS</td><td>CONNECTICUT WATER SERVICE INC</td><td>1191</td><td>29.125</td><td>30.0</td></tr><tr><th>5</th><td>26463</td><td>19970108</td><td>CTWS</td><td>CONNECTICUT WATER SERVICE INC</td><td>1191</td><td>29.125</td><td>30.0</td></tr><tr><th>6</th><td>26463</td><td>19970109</td><td>CTWS</td><td>CONNECTICUT WATER SERVICE INC</td><td>1191</td><td>29.125</td><td>30.0</td></tr><tr><th>7</th><td>26463</td><td>19970110</td><td>CTWS</td><td>CONNECTICUT WATER SERVICE INC</td><td>1191</td><td>29.125</td><td>30.0</td></tr><tr><th>8</th><td>26463</td><td>19970113</td><td>CTWS</td><td>CONNECTICUT WATER SERVICE INC</td><td>1191</td><td>29.125</td><td>29.125</td></tr><tr><th>9</th><td>26463</td><td>19970114</td><td>CTWS</td><td>CONNECTICUT WATER SERVICE INC</td><td>1191</td><td>29.125</td><td>29.125</td></tr><tr><th>10</th><td>26463</td><td>19970115</td><td>CTWS</td><td>CONNECTICUT WATER SERVICE INC</td><td>1191</td><td>28.5</td><td>30.0</td></tr><tr><th>11</th><td>26463</td><td>19970116</td><td>CTWS</td><td>CONNECTICUT WATER SERVICE INC</td><td>1191</td><td>27.5</td><td>28.625</td></tr><tr><th>12</th><td>26463</td><td>19970117</td><td>CTWS</td><td>CONNECTICUT WATER SERVICE INC</td><td>1191</td><td>27.5</td><td>28.375</td></tr><tr><th>13</th><td>26463</td><td>19970120</td><td>CTWS</td><td>CONNECTICUT WATER SERVICE INC</td><td>1191</td><td>27.5</td><td>28.375</td></tr><tr><th>14</th><td>26463</td><td>19970121</td><td>CTWS</td><td>CONNECTICUT WATER SERVICE INC</td><td>1191</td><td>27.5</td><td>28.25</td></tr><tr><th>15</th><td>26463</td><td>19970122</td><td>CTWS</td><td>CONNECTICUT WATER SERVICE INC</td><td>1191</td><td>27.5</td><td>28.25</td></tr><tr><th>16</th><td>26463</td><td>19970123</td><td>CTWS</td><td>CONNECTICUT WATER SERVICE INC</td><td>1191</td><td>27.5</td><td>27.875</td></tr><tr><th>17</th><td>26463</td><td>19970124</td><td>CTWS</td><td>CONNECTICUT WATER SERVICE INC</td><td>1191</td><td>27.5</td><td>28.25</td></tr><tr><th>18</th><td>26463</td><td>19970127</td><td>CTWS</td><td>CONNECTICUT WATER SERVICE INC</td><td>1191</td><td>27.5</td><td>28.25</td></tr><tr><th>19</th><td>26463</td><td>19970128</td><td>CTWS</td><td>CONNECTICUT WATER SERVICE INC</td><td>1191</td><td>27.5</td><td>28.25</td></tr><tr><th>20</th><td>26463</td><td>19970129</td><td>CTWS</td><td>CONNECTICUT WATER SERVICE INC</td><td>1191</td><td>27.5</td><td>27.5</td></tr><tr><th>21</th><td>26463</td><td>19970130</td><td>CTWS</td><td>CONNECTICUT WATER SERVICE INC</td><td>1191</td><td>27.5</td><td>28.0</td></tr><tr><th>22</th><td>26463</td><td>19970131</td><td>CTWS</td><td>CONNECTICUT WATER SERVICE INC</td><td>1191</td><td>27.5</td><td>28.0</td></tr><tr><th>23</th><td>26463</td><td>19970203</td><td>CTWS</td><td>CONNECTICUT WATER SERVICE INC</td><td>1191</td><td>27.5</td><td>28.0</td></tr><tr><th>24</th><td>26463</td><td>19970204</td><td>CTWS</td><td>CONNECTICUT WATER SERVICE INC</td><td>1191</td><td>27.5</td><td>28.0</td></tr><tr><th>25</th><td>26463</td><td>19970205</td><td>CTWS</td><td>CONNECTICUT WATER SERVICE INC</td><td>1191</td><td>27.5</td><td>28.0</td></tr><tr><th>26</th><td>26463</td><td>19970206</td><td>CTWS</td><td>CONNECTICUT WATER SERVICE INC</td><td>1191</td><td>27.5</td><td>28.0</td></tr><tr><th>27</th><td>26463</td><td>19970207</td><td>CTWS</td><td>CONNECTICUT WATER SERVICE INC</td><td>1191</td><td>27.5</td><td>28.0</td></tr><tr><th>28</th><td>26463</td><td>19970210</td><td>CTWS</td><td>CONNECTICUT WATER SERVICE INC</td><td>1191</td><td>27.5</td><td>28.0</td></tr><tr><th>29</th><td>26463</td><td>19970211</td><td>CTWS</td><td>CONNECTICUT WATER SERVICE INC</td><td>1191</td><td>28.0</td><td>28.0</td></tr><tr><th>30</th><td>26463</td><td>19970212</td><td>CTWS</td><td>CONNECTICUT WATER SERVICE INC</td><td>1191</td><td>27.5</td><td>28.0</td></tr><tr><th>&vellip;</th><td>&vellip;</td><td>&vellip;</td><td>&vellip;</td><td>&vellip;</td><td>&vellip;</td><td>&vellip;</td><td>&vellip;</td></tr></tbody></table>"
      ],
      "text/latex": [
       "\\begin{tabular}{r|cccccccc}\n",
       "\t& PERMNO & date & TICKER & COMNAM & PERMCO & BIDLO & ASKHI & \\\\\n",
       "\t\\hline\n",
       "\t& Int64 & Int64 & String & String & Int64 & Float64 & Float64 & \\\\\n",
       "\t\\hline\n",
       "\t1 & 26463 & 19970102 & CTWS & CONNECTICUT WATER SERVICE INC & 1191 & 29.0 & 30.0 & $\\dots$ \\\\\n",
       "\t2 & 26463 & 19970103 & CTWS & CONNECTICUT WATER SERVICE INC & 1191 & 29.25 & 30.0 & $\\dots$ \\\\\n",
       "\t3 & 26463 & 19970106 & CTWS & CONNECTICUT WATER SERVICE INC & 1191 & 29.25 & 30.0 & $\\dots$ \\\\\n",
       "\t4 & 26463 & 19970107 & CTWS & CONNECTICUT WATER SERVICE INC & 1191 & 29.125 & 30.0 & $\\dots$ \\\\\n",
       "\t5 & 26463 & 19970108 & CTWS & CONNECTICUT WATER SERVICE INC & 1191 & 29.125 & 30.0 & $\\dots$ \\\\\n",
       "\t6 & 26463 & 19970109 & CTWS & CONNECTICUT WATER SERVICE INC & 1191 & 29.125 & 30.0 & $\\dots$ \\\\\n",
       "\t7 & 26463 & 19970110 & CTWS & CONNECTICUT WATER SERVICE INC & 1191 & 29.125 & 30.0 & $\\dots$ \\\\\n",
       "\t8 & 26463 & 19970113 & CTWS & CONNECTICUT WATER SERVICE INC & 1191 & 29.125 & 29.125 & $\\dots$ \\\\\n",
       "\t9 & 26463 & 19970114 & CTWS & CONNECTICUT WATER SERVICE INC & 1191 & 29.125 & 29.125 & $\\dots$ \\\\\n",
       "\t10 & 26463 & 19970115 & CTWS & CONNECTICUT WATER SERVICE INC & 1191 & 28.5 & 30.0 & $\\dots$ \\\\\n",
       "\t11 & 26463 & 19970116 & CTWS & CONNECTICUT WATER SERVICE INC & 1191 & 27.5 & 28.625 & $\\dots$ \\\\\n",
       "\t12 & 26463 & 19970117 & CTWS & CONNECTICUT WATER SERVICE INC & 1191 & 27.5 & 28.375 & $\\dots$ \\\\\n",
       "\t13 & 26463 & 19970120 & CTWS & CONNECTICUT WATER SERVICE INC & 1191 & 27.5 & 28.375 & $\\dots$ \\\\\n",
       "\t14 & 26463 & 19970121 & CTWS & CONNECTICUT WATER SERVICE INC & 1191 & 27.5 & 28.25 & $\\dots$ \\\\\n",
       "\t15 & 26463 & 19970122 & CTWS & CONNECTICUT WATER SERVICE INC & 1191 & 27.5 & 28.25 & $\\dots$ \\\\\n",
       "\t16 & 26463 & 19970123 & CTWS & CONNECTICUT WATER SERVICE INC & 1191 & 27.5 & 27.875 & $\\dots$ \\\\\n",
       "\t17 & 26463 & 19970124 & CTWS & CONNECTICUT WATER SERVICE INC & 1191 & 27.5 & 28.25 & $\\dots$ \\\\\n",
       "\t18 & 26463 & 19970127 & CTWS & CONNECTICUT WATER SERVICE INC & 1191 & 27.5 & 28.25 & $\\dots$ \\\\\n",
       "\t19 & 26463 & 19970128 & CTWS & CONNECTICUT WATER SERVICE INC & 1191 & 27.5 & 28.25 & $\\dots$ \\\\\n",
       "\t20 & 26463 & 19970129 & CTWS & CONNECTICUT WATER SERVICE INC & 1191 & 27.5 & 27.5 & $\\dots$ \\\\\n",
       "\t21 & 26463 & 19970130 & CTWS & CONNECTICUT WATER SERVICE INC & 1191 & 27.5 & 28.0 & $\\dots$ \\\\\n",
       "\t22 & 26463 & 19970131 & CTWS & CONNECTICUT WATER SERVICE INC & 1191 & 27.5 & 28.0 & $\\dots$ \\\\\n",
       "\t23 & 26463 & 19970203 & CTWS & CONNECTICUT WATER SERVICE INC & 1191 & 27.5 & 28.0 & $\\dots$ \\\\\n",
       "\t24 & 26463 & 19970204 & CTWS & CONNECTICUT WATER SERVICE INC & 1191 & 27.5 & 28.0 & $\\dots$ \\\\\n",
       "\t25 & 26463 & 19970205 & CTWS & CONNECTICUT WATER SERVICE INC & 1191 & 27.5 & 28.0 & $\\dots$ \\\\\n",
       "\t26 & 26463 & 19970206 & CTWS & CONNECTICUT WATER SERVICE INC & 1191 & 27.5 & 28.0 & $\\dots$ \\\\\n",
       "\t27 & 26463 & 19970207 & CTWS & CONNECTICUT WATER SERVICE INC & 1191 & 27.5 & 28.0 & $\\dots$ \\\\\n",
       "\t28 & 26463 & 19970210 & CTWS & CONNECTICUT WATER SERVICE INC & 1191 & 27.5 & 28.0 & $\\dots$ \\\\\n",
       "\t29 & 26463 & 19970211 & CTWS & CONNECTICUT WATER SERVICE INC & 1191 & 28.0 & 28.0 & $\\dots$ \\\\\n",
       "\t30 & 26463 & 19970212 & CTWS & CONNECTICUT WATER SERVICE INC & 1191 & 27.5 & 28.0 & $\\dots$ \\\\\n",
       "\t$\\dots$ & $\\dots$ & $\\dots$ & $\\dots$ & $\\dots$ & $\\dots$ & $\\dots$ & $\\dots$ &  \\\\\n",
       "\\end{tabular}\n"
      ],
      "text/plain": [
       "9060×21 DataFrame. Omitted printing of 16 columns\n",
       "│ Row  │ PERMNO │ date     │ TICKER │ COMNAM                        │ PERMCO │\n",
       "│      │ \u001b[90mInt64\u001b[39m  │ \u001b[90mInt64\u001b[39m    │ \u001b[90mString\u001b[39m │ \u001b[90mString\u001b[39m                        │ \u001b[90mInt64\u001b[39m  │\n",
       "├──────┼────────┼──────────┼────────┼───────────────────────────────┼────────┤\n",
       "│ 1    │ 26463  │ 19970102 │ CTWS   │ CONNECTICUT WATER SERVICE INC │ 1191   │\n",
       "│ 2    │ 26463  │ 19970103 │ CTWS   │ CONNECTICUT WATER SERVICE INC │ 1191   │\n",
       "│ 3    │ 26463  │ 19970106 │ CTWS   │ CONNECTICUT WATER SERVICE INC │ 1191   │\n",
       "│ 4    │ 26463  │ 19970107 │ CTWS   │ CONNECTICUT WATER SERVICE INC │ 1191   │\n",
       "│ 5    │ 26463  │ 19970108 │ CTWS   │ CONNECTICUT WATER SERVICE INC │ 1191   │\n",
       "│ 6    │ 26463  │ 19970109 │ CTWS   │ CONNECTICUT WATER SERVICE INC │ 1191   │\n",
       "│ 7    │ 26463  │ 19970110 │ CTWS   │ CONNECTICUT WATER SERVICE INC │ 1191   │\n",
       "│ 8    │ 26463  │ 19970113 │ CTWS   │ CONNECTICUT WATER SERVICE INC │ 1191   │\n",
       "│ 9    │ 26463  │ 19970114 │ CTWS   │ CONNECTICUT WATER SERVICE INC │ 1191   │\n",
       "│ 10   │ 26463  │ 19970115 │ CTWS   │ CONNECTICUT WATER SERVICE INC │ 1191   │\n",
       "⋮\n",
       "│ 9050 │ 71475  │ 20081216 │ AWR    │ AMERICAN STATES WATER CO      │ 4350   │\n",
       "│ 9051 │ 71475  │ 20081217 │ AWR    │ AMERICAN STATES WATER CO      │ 4350   │\n",
       "│ 9052 │ 71475  │ 20081218 │ AWR    │ AMERICAN STATES WATER CO      │ 4350   │\n",
       "│ 9053 │ 71475  │ 20081219 │ AWR    │ AMERICAN STATES WATER CO      │ 4350   │\n",
       "│ 9054 │ 71475  │ 20081222 │ AWR    │ AMERICAN STATES WATER CO      │ 4350   │\n",
       "│ 9055 │ 71475  │ 20081223 │ AWR    │ AMERICAN STATES WATER CO      │ 4350   │\n",
       "│ 9056 │ 71475  │ 20081224 │ AWR    │ AMERICAN STATES WATER CO      │ 4350   │\n",
       "│ 9057 │ 71475  │ 20081226 │ AWR    │ AMERICAN STATES WATER CO      │ 4350   │\n",
       "│ 9058 │ 71475  │ 20081229 │ AWR    │ AMERICAN STATES WATER CO      │ 4350   │\n",
       "│ 9059 │ 71475  │ 20081230 │ AWR    │ AMERICAN STATES WATER CO      │ 4350   │\n",
       "│ 9060 │ 71475  │ 20081231 │ AWR    │ AMERICAN STATES WATER CO      │ 4350   │"
      ]
     },
     "execution_count": 13,
     "metadata": {},
     "output_type": "execute_result"
    }
   ],
   "source": [
    "df"
   ]
  },
  {
   "cell_type": "code",
   "execution_count": 4,
   "metadata": {},
   "outputs": [
    {
     "data": {
      "text/plain": [
       "5-element Array{String,1}:\n",
       " \"CTWS\"\n",
       " \"PSC\"\n",
       " \"WTR\"\n",
       " \"SCW\"\n",
       " \"AWR\""
      ]
     },
     "execution_count": 4,
     "metadata": {},
     "output_type": "execute_result"
    }
   ],
   "source": [
    "unique(df.TICKER)"
   ]
  },
  {
   "cell_type": "code",
   "execution_count": 5,
   "metadata": {},
   "outputs": [
    {
     "data": {
      "text/plain": [
       "5-element Array{String,1}:\n",
       " \"CONNECTICUT WATER SERVICE INC\"\n",
       " \"PHILADELPHIA SUBURBAN CORP\"\n",
       " \"AQUA AMERICA INC\"\n",
       " \"SOUTHERN CALIFORNIA WATER CO\"\n",
       " \"AMERICAN STATES WATER CO\""
      ]
     },
     "execution_count": 5,
     "metadata": {},
     "output_type": "execute_result"
    }
   ],
   "source": [
    "unique(df.COMNAM)"
   ]
  },
  {
   "cell_type": "code",
   "execution_count": 6,
   "metadata": {},
   "outputs": [
    {
     "data": {
      "text/plain": [
       "3-element Array{Int64,1}:\n",
       " 26463\n",
       " 52898\n",
       " 71475"
      ]
     },
     "execution_count": 6,
     "metadata": {},
     "output_type": "execute_result"
    }
   ],
   "source": [
    "unique(df.PERMNO)"
   ]
  },
  {
   "cell_type": "code",
   "execution_count": null,
   "metadata": {},
   "outputs": [],
   "source": []
  }
 ],
 "metadata": {
  "kernelspec": {
   "display_name": "Julia 1.5.3",
   "language": "julia",
   "name": "julia-1.5"
  },
  "language_info": {
   "file_extension": ".jl",
   "mimetype": "application/julia",
   "name": "julia",
   "version": "1.5.3"
  }
 },
 "nbformat": 4,
 "nbformat_minor": 4
}
