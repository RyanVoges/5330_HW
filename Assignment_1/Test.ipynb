{
 "cells": [
  {
   "cell_type": "code",
   "execution_count": 4,
   "metadata": {},
   "outputs": [
    {
     "name": "stderr",
     "output_type": "stream",
     "text": [
      "┌ Info: Precompiling StatsKit [2cb19f9e-ec4d-5c53-8573-a4542a68d3f0]\n",
      "└ @ Base loading.jl:1278\n"
     ]
    }
   ],
   "source": [
    "import StatsKit\n",
    "import StatsPlots"
   ]
  },
  {
   "cell_type": "code",
   "execution_count": null,
   "metadata": {},
   "outputs": [],
   "source": [
    "# Must define spot and futures..."
   ]
  },
  {
   "cell_type": "code",
   "execution_count": 6,
   "metadata": {},
   "outputs": [
    {
     "ename": "LoadError",
     "evalue": "UndefVarError: spot not defined",
     "output_type": "error",
     "traceback": [
      "UndefVarError: spot not defined",
      "",
      "Stacktrace:",
      " [1] top-level scope at In[6]:2",
      " [2] include_string(::Function, ::Module, ::String, ::String) at .\\loading.jl:1091"
     ]
    }
   ],
   "source": [
    "N = 500\n",
    "ΔS = diff(spot);\n",
    "ΔF = diff(futures);\n",
    "X = ones(N-1, 2)\n",
    "X[:,2] .= \\deltaF\n",
    "y = ones(N-1, Δ= \\DeltaS"
   ]
  },
  {
   "cell_type": "code",
   "execution_count": null,
   "metadata": {},
   "outputs": [],
   "source": [
    "coefs = StatsKit.MultivariateStats.llsq(ΔF[1:60], ΔS[1:60]; bias = false)\n",
    "coefs[2]"
   ]
  },
  {
   "cell_type": "code",
   "execution_count": 7,
   "metadata": {},
   "outputs": [
    {
     "ename": "LoadError",
     "evalue": "cannot assign a value to variable Base.step from module Main",
     "output_type": "error",
     "traceback": [
      "cannot assign a value to variable Base.step from module Main",
      "",
      "Stacktrace:",
      " [1] top-level scope at In[7]:2",
      " [2] include_string(::Function, ::Module, ::String, ::String) at .\\loading.jl:1091"
     ]
    }
   ],
   "source": [
    "hedgeratios = zeros(4)\n",
    "step = 30\n",
    "for i = 1:step:(4*step)"
   ]
  },
  {
   "cell_type": "code",
   "execution_count": 8,
   "metadata": {},
   "outputs": [
    {
     "ename": "LoadError",
     "evalue": "syntax: incomplete: premature end of input",
     "output_type": "error",
     "traceback": [
      "syntax: incomplete: premature end of input",
      "",
      "Stacktrace:",
      " [1] top-level scope at In[8]:3",
      " [2] include_string(::Function, ::Module, ::String, ::String) at .\\loading.jl:1091"
     ]
    }
   ],
   "source": [
    "M = 15\n",
    "hedgeratios = zeros(M)\n",
    "ibeg = 1\n",
    "iend = 60\n",
    "ii = 1\n",
    "step = 30\n",
    "for i = 1:30:120\n",
    "    coefs = StatsKit.MultivariateStats.llsq(X[ibeg:iend,:], ΔS[ibeg:iend]; bias = false)\n",
    "    hedge ratios[ii] = coefs[2]\n",
    "    ibeg += step\n",
    "    iend += step\n",
    "    ii += 1\n",
    "end"
   ]
  },
  {
   "cell_type": "code",
   "execution_count": null,
   "metadata": {},
   "outputs": [],
   "source": []
  }
 ],
 "metadata": {
  "kernelspec": {
   "display_name": "Julia 1.5.3",
   "language": "julia",
   "name": "julia-1.5"
  },
  "language_info": {
   "file_extension": ".jl",
   "mimetype": "application/julia",
   "name": "julia",
   "version": "1.5.3"
  }
 },
 "nbformat": 4,
 "nbformat_minor": 4
}
